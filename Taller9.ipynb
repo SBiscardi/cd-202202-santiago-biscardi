{
  "nbformat": 4,
  "nbformat_minor": 0,
  "metadata": {
    "colab": {
      "provenance": [],
      "collapsed_sections": [],
      "include_colab_link": true
    },
    "kernelspec": {
      "name": "python3",
      "display_name": "Python 3"
    },
    "language_info": {
      "name": "python"
    }
  },
  "cells": [
    {
      "cell_type": "markdown",
      "metadata": {
        "id": "view-in-github",
        "colab_type": "text"
      },
      "source": [
        "<a href=\"https://colab.research.google.com/github/SBiscardi/cd-202202-santiago-biscardi/blob/master/Taller9.ipynb\" target=\"_parent\"><img src=\"https://colab.research.google.com/assets/colab-badge.svg\" alt=\"Open In Colab\"/></a>"
      ]
    },
    {
      "cell_type": "code",
      "source": [
        "import pandas as pd\n",
        "import statsmodels.api as sm\n",
        "from scipy.special import logit\n",
        "from sklearn.model_selection import train_test_split\n",
        "from math import e\n",
        "import numpy as np\n"
      ],
      "metadata": {
        "id": "vvhDI1vTX4hU"
      },
      "execution_count": null,
      "outputs": []
    },
    {
      "cell_type": "code",
      "source": [
        "dfOriginal = pd.read_csv(\"https://raw.githubusercontent.com/adiacla/bigdata/master/titanic.csv\")\n",
        "dfOriginal['Survived'] = dfOriginal['Survived'].fillna(0)\n",
        "dfOriginal['Sex'] = dfOriginal['Sex'].replace('male', 0)\n",
        "dfOriginal['Sex'] = dfOriginal['Sex'].replace('female', 1)"
      ],
      "metadata": {
        "id": "kzGu1_f-gw_v"
      },
      "execution_count": null,
      "outputs": []
    },
    {
      "cell_type": "code",
      "source": [
        "# Cabin tiene muchos valores nulos\n",
        "df = dfOriginal.copy(deep=True)\n",
        "df = df.drop('Cabin', axis= 1)"
      ],
      "metadata": {
        "id": "z6NUgWEBr6WW"
      },
      "execution_count": null,
      "outputs": []
    },
    {
      "cell_type": "code",
      "source": [
        "# Borrar los nulos\n",
        "df = df.dropna()"
      ],
      "metadata": {
        "id": "Au9O7y_tsbqu"
      },
      "execution_count": null,
      "outputs": []
    },
    {
      "cell_type": "code",
      "source": [
        "dfTrain, dfTest = train_test_split(df, test_size=0.2, random_state=25)"
      ],
      "metadata": {
        "id": "ZU4eyA4zsw-V"
      },
      "execution_count": null,
      "outputs": []
    },
    {
      "cell_type": "code",
      "source": [
        "# Hacer regresión de age, siblings y parents vs sobrevivencia\n",
        "x = dfTrain.iloc[:,[5, 6, 7]]\n",
        "y = dfTrain.Survived\n",
        "logit_model = sm.Logit(y,x)\n",
        "result = logit_model.fit()\n",
        "print(result.summary())"
      ],
      "metadata": {
        "colab": {
          "base_uri": "https://localhost:8080/"
        },
        "id": "YPBn7a5Ns2IN",
        "outputId": "0fb741f5-18dc-4a7d-d0b8-9feeeebf7f0a"
      },
      "execution_count": null,
      "outputs": [
        {
          "output_type": "stream",
          "name": "stdout",
          "text": [
            "Optimization terminated successfully.\n",
            "         Current function value: 0.663036\n",
            "         Iterations 4\n",
            "                           Logit Regression Results                           \n",
            "==============================================================================\n",
            "Dep. Variable:               Survived   No. Observations:                  569\n",
            "Model:                          Logit   Df Residuals:                      566\n",
            "Method:                           MLE   Df Model:                            2\n",
            "Date:                Sun, 06 Nov 2022   Pseudo R-squ.:                 0.01419\n",
            "Time:                        03:17:57   Log-Likelihood:                -377.27\n",
            "converged:                       True   LL-Null:                       -382.70\n",
            "Covariance Type:            nonrobust   LLR p-value:                  0.004375\n",
            "==============================================================================\n",
            "                 coef    std err          z      P>|z|      [0.025      0.975]\n",
            "------------------------------------------------------------------------------\n",
            "Age           -0.0141      0.003     -4.950      0.000      -0.020      -0.009\n",
            "SibSp         -0.2017      0.097     -2.087      0.037      -0.391      -0.012\n",
            "Parch          0.3120      0.111      2.807      0.005       0.094       0.530\n",
            "==============================================================================\n"
          ]
        }
      ]
    },
    {
      "cell_type": "code",
      "source": [
        "ageCoef = result.params.values[0]\n",
        "siblingsCoef = result.params.values[1]\n",
        "parentsCoef = result.params.values[2]"
      ],
      "metadata": {
        "id": "vqRuodzQtQJE"
      },
      "execution_count": null,
      "outputs": []
    },
    {
      "cell_type": "code",
      "source": [
        "dfTest['PredictedValue'] = np.nan\n",
        "dfTest.index = range(dfTest.shape[0])\n",
        "\n",
        "for i in range(dfTest.shape[0]):\n",
        "  pred = 1/(1+e**((ageCoef*dfTest.loc[i, 'Age']) + (siblingsCoef*dfTest.loc[i, 'SibSp']) + (parentsCoef*dfTest.loc[i, 'Parch'])))\n",
        "  value = 0\n",
        "  if pred > 0.5:\n",
        "    value = 1\n",
        "  elif pred is not None:\n",
        "    value = 0\n",
        "  \n",
        "  dfTest['PredictedValue'][i] = value\n"
      ],
      "metadata": {
        "colab": {
          "base_uri": "https://localhost:8080/"
        },
        "id": "dAlojlhSvPTl",
        "outputId": "7627dfd8-f351-4880-85a0-6608bf2d6ce2"
      },
      "execution_count": null,
      "outputs": [
        {
          "output_type": "stream",
          "name": "stderr",
          "text": [
            "/usr/local/lib/python3.7/dist-packages/ipykernel_launcher.py:12: SettingWithCopyWarning: \n",
            "A value is trying to be set on a copy of a slice from a DataFrame\n",
            "\n",
            "See the caveats in the documentation: https://pandas.pydata.org/pandas-docs/stable/user_guide/indexing.html#returning-a-view-versus-a-copy\n",
            "  if sys.path[0] == '':\n"
          ]
        }
      ]
    },
    {
      "cell_type": "code",
      "source": [
        "dfTest['PredictedValue'].value_counts()"
      ],
      "metadata": {
        "colab": {
          "base_uri": "https://localhost:8080/"
        },
        "id": "qcSIQkKp3Hnf",
        "outputId": "43e67d2d-ec95-4056-a84f-42f61b0690d2"
      },
      "execution_count": null,
      "outputs": [
        {
          "output_type": "execute_result",
          "data": {
            "text/plain": [
              "1.0    125\n",
              "0.0     18\n",
              "Name: PredictedValue, dtype: int64"
            ]
          },
          "metadata": {},
          "execution_count": 89
        }
      ]
    },
    {
      "cell_type": "code",
      "source": [
        "dfTest['Survived'].value_counts()"
      ],
      "metadata": {
        "colab": {
          "base_uri": "https://localhost:8080/"
        },
        "id": "LaS6LsZz3XTO",
        "outputId": "822f1a99-5506-4921-a8a7-4d6a462786ea"
      },
      "execution_count": null,
      "outputs": [
        {
          "output_type": "execute_result",
          "data": {
            "text/plain": [
              "0    82\n",
              "1    61\n",
              "Name: Survived, dtype: int64"
            ]
          },
          "metadata": {},
          "execution_count": 90
        }
      ]
    },
    {
      "cell_type": "code",
      "source": [
        "dfTest[['Age', 'SibSp', 'Parch', 'Survived', 'PredictedValue']]"
      ],
      "metadata": {
        "colab": {
          "base_uri": "https://localhost:8080/",
          "height": 424
        },
        "id": "_P6MpB9fwNB9",
        "outputId": "53e8785d-83f5-4115-f4a5-990475ee0178"
      },
      "execution_count": null,
      "outputs": [
        {
          "output_type": "execute_result",
          "data": {
            "text/plain": [
              "       Age  SibSp  Parch  Survived  PredictedValue\n",
              "0     3.00      1      1         1             0.0\n",
              "1     0.92      1      2         1             0.0\n",
              "2    19.00      0      0         0             1.0\n",
              "3    10.00      3      2         0             1.0\n",
              "4    31.00      0      0         1             1.0\n",
              "..     ...    ...    ...       ...             ...\n",
              "138  22.00      0      0         0             1.0\n",
              "139  24.00      1      0         1             1.0\n",
              "140   4.00      3      2         0             1.0\n",
              "141  50.00      1      0         0             1.0\n",
              "142  22.00      0      0         0             1.0\n",
              "\n",
              "[143 rows x 5 columns]"
            ],
            "text/html": [
              "\n",
              "  <div id=\"df-0fa6e255-d6ab-403e-8f99-3bbd821904dd\">\n",
              "    <div class=\"colab-df-container\">\n",
              "      <div>\n",
              "<style scoped>\n",
              "    .dataframe tbody tr th:only-of-type {\n",
              "        vertical-align: middle;\n",
              "    }\n",
              "\n",
              "    .dataframe tbody tr th {\n",
              "        vertical-align: top;\n",
              "    }\n",
              "\n",
              "    .dataframe thead th {\n",
              "        text-align: right;\n",
              "    }\n",
              "</style>\n",
              "<table border=\"1\" class=\"dataframe\">\n",
              "  <thead>\n",
              "    <tr style=\"text-align: right;\">\n",
              "      <th></th>\n",
              "      <th>Age</th>\n",
              "      <th>SibSp</th>\n",
              "      <th>Parch</th>\n",
              "      <th>Survived</th>\n",
              "      <th>PredictedValue</th>\n",
              "    </tr>\n",
              "  </thead>\n",
              "  <tbody>\n",
              "    <tr>\n",
              "      <th>0</th>\n",
              "      <td>3.00</td>\n",
              "      <td>1</td>\n",
              "      <td>1</td>\n",
              "      <td>1</td>\n",
              "      <td>0.0</td>\n",
              "    </tr>\n",
              "    <tr>\n",
              "      <th>1</th>\n",
              "      <td>0.92</td>\n",
              "      <td>1</td>\n",
              "      <td>2</td>\n",
              "      <td>1</td>\n",
              "      <td>0.0</td>\n",
              "    </tr>\n",
              "    <tr>\n",
              "      <th>2</th>\n",
              "      <td>19.00</td>\n",
              "      <td>0</td>\n",
              "      <td>0</td>\n",
              "      <td>0</td>\n",
              "      <td>1.0</td>\n",
              "    </tr>\n",
              "    <tr>\n",
              "      <th>3</th>\n",
              "      <td>10.00</td>\n",
              "      <td>3</td>\n",
              "      <td>2</td>\n",
              "      <td>0</td>\n",
              "      <td>1.0</td>\n",
              "    </tr>\n",
              "    <tr>\n",
              "      <th>4</th>\n",
              "      <td>31.00</td>\n",
              "      <td>0</td>\n",
              "      <td>0</td>\n",
              "      <td>1</td>\n",
              "      <td>1.0</td>\n",
              "    </tr>\n",
              "    <tr>\n",
              "      <th>...</th>\n",
              "      <td>...</td>\n",
              "      <td>...</td>\n",
              "      <td>...</td>\n",
              "      <td>...</td>\n",
              "      <td>...</td>\n",
              "    </tr>\n",
              "    <tr>\n",
              "      <th>138</th>\n",
              "      <td>22.00</td>\n",
              "      <td>0</td>\n",
              "      <td>0</td>\n",
              "      <td>0</td>\n",
              "      <td>1.0</td>\n",
              "    </tr>\n",
              "    <tr>\n",
              "      <th>139</th>\n",
              "      <td>24.00</td>\n",
              "      <td>1</td>\n",
              "      <td>0</td>\n",
              "      <td>1</td>\n",
              "      <td>1.0</td>\n",
              "    </tr>\n",
              "    <tr>\n",
              "      <th>140</th>\n",
              "      <td>4.00</td>\n",
              "      <td>3</td>\n",
              "      <td>2</td>\n",
              "      <td>0</td>\n",
              "      <td>1.0</td>\n",
              "    </tr>\n",
              "    <tr>\n",
              "      <th>141</th>\n",
              "      <td>50.00</td>\n",
              "      <td>1</td>\n",
              "      <td>0</td>\n",
              "      <td>0</td>\n",
              "      <td>1.0</td>\n",
              "    </tr>\n",
              "    <tr>\n",
              "      <th>142</th>\n",
              "      <td>22.00</td>\n",
              "      <td>0</td>\n",
              "      <td>0</td>\n",
              "      <td>0</td>\n",
              "      <td>1.0</td>\n",
              "    </tr>\n",
              "  </tbody>\n",
              "</table>\n",
              "<p>143 rows × 5 columns</p>\n",
              "</div>\n",
              "      <button class=\"colab-df-convert\" onclick=\"convertToInteractive('df-0fa6e255-d6ab-403e-8f99-3bbd821904dd')\"\n",
              "              title=\"Convert this dataframe to an interactive table.\"\n",
              "              style=\"display:none;\">\n",
              "        \n",
              "  <svg xmlns=\"http://www.w3.org/2000/svg\" height=\"24px\"viewBox=\"0 0 24 24\"\n",
              "       width=\"24px\">\n",
              "    <path d=\"M0 0h24v24H0V0z\" fill=\"none\"/>\n",
              "    <path d=\"M18.56 5.44l.94 2.06.94-2.06 2.06-.94-2.06-.94-.94-2.06-.94 2.06-2.06.94zm-11 1L8.5 8.5l.94-2.06 2.06-.94-2.06-.94L8.5 2.5l-.94 2.06-2.06.94zm10 10l.94 2.06.94-2.06 2.06-.94-2.06-.94-.94-2.06-.94 2.06-2.06.94z\"/><path d=\"M17.41 7.96l-1.37-1.37c-.4-.4-.92-.59-1.43-.59-.52 0-1.04.2-1.43.59L10.3 9.45l-7.72 7.72c-.78.78-.78 2.05 0 2.83L4 21.41c.39.39.9.59 1.41.59.51 0 1.02-.2 1.41-.59l7.78-7.78 2.81-2.81c.8-.78.8-2.07 0-2.86zM5.41 20L4 18.59l7.72-7.72 1.47 1.35L5.41 20z\"/>\n",
              "  </svg>\n",
              "      </button>\n",
              "      \n",
              "  <style>\n",
              "    .colab-df-container {\n",
              "      display:flex;\n",
              "      flex-wrap:wrap;\n",
              "      gap: 12px;\n",
              "    }\n",
              "\n",
              "    .colab-df-convert {\n",
              "      background-color: #E8F0FE;\n",
              "      border: none;\n",
              "      border-radius: 50%;\n",
              "      cursor: pointer;\n",
              "      display: none;\n",
              "      fill: #1967D2;\n",
              "      height: 32px;\n",
              "      padding: 0 0 0 0;\n",
              "      width: 32px;\n",
              "    }\n",
              "\n",
              "    .colab-df-convert:hover {\n",
              "      background-color: #E2EBFA;\n",
              "      box-shadow: 0px 1px 2px rgba(60, 64, 67, 0.3), 0px 1px 3px 1px rgba(60, 64, 67, 0.15);\n",
              "      fill: #174EA6;\n",
              "    }\n",
              "\n",
              "    [theme=dark] .colab-df-convert {\n",
              "      background-color: #3B4455;\n",
              "      fill: #D2E3FC;\n",
              "    }\n",
              "\n",
              "    [theme=dark] .colab-df-convert:hover {\n",
              "      background-color: #434B5C;\n",
              "      box-shadow: 0px 1px 3px 1px rgba(0, 0, 0, 0.15);\n",
              "      filter: drop-shadow(0px 1px 2px rgba(0, 0, 0, 0.3));\n",
              "      fill: #FFFFFF;\n",
              "    }\n",
              "  </style>\n",
              "\n",
              "      <script>\n",
              "        const buttonEl =\n",
              "          document.querySelector('#df-0fa6e255-d6ab-403e-8f99-3bbd821904dd button.colab-df-convert');\n",
              "        buttonEl.style.display =\n",
              "          google.colab.kernel.accessAllowed ? 'block' : 'none';\n",
              "\n",
              "        async function convertToInteractive(key) {\n",
              "          const element = document.querySelector('#df-0fa6e255-d6ab-403e-8f99-3bbd821904dd');\n",
              "          const dataTable =\n",
              "            await google.colab.kernel.invokeFunction('convertToInteractive',\n",
              "                                                     [key], {});\n",
              "          if (!dataTable) return;\n",
              "\n",
              "          const docLinkHtml = 'Like what you see? Visit the ' +\n",
              "            '<a target=\"_blank\" href=https://colab.research.google.com/notebooks/data_table.ipynb>data table notebook</a>'\n",
              "            + ' to learn more about interactive tables.';\n",
              "          element.innerHTML = '';\n",
              "          dataTable['output_type'] = 'display_data';\n",
              "          await google.colab.output.renderOutput(dataTable, element);\n",
              "          const docLink = document.createElement('div');\n",
              "          docLink.innerHTML = docLinkHtml;\n",
              "          element.appendChild(docLink);\n",
              "        }\n",
              "      </script>\n",
              "    </div>\n",
              "  </div>\n",
              "  "
            ]
          },
          "metadata": {},
          "execution_count": 91
        }
      ]
    },
    {
      "cell_type": "code",
      "source": [
        "counter = 0\n",
        "for i in range(dfTest.shape[0]):\n",
        "  if dfTest.loc[i, 'Survived'] == dfTest.loc[i, 'PredictedValue']:\n",
        "    counter+=1\n",
        "\n",
        "percentage = (counter/dfTest.shape[0])*100"
      ],
      "metadata": {
        "id": "7n3JASVKxaqf"
      },
      "execution_count": null,
      "outputs": []
    },
    {
      "cell_type": "code",
      "source": [
        "print(f'El porcentaje de prediccion es de: {percentage}')"
      ],
      "metadata": {
        "colab": {
          "base_uri": "https://localhost:8080/"
        },
        "id": "AyTCEko312tQ",
        "outputId": "ed7bf5f1-63e5-4a19-f162-8228e8f9e4b4"
      },
      "execution_count": null,
      "outputs": [
        {
          "output_type": "stream",
          "name": "stdout",
          "text": [
            "El porcentaje de prediccion es de: 37.06293706293706\n"
          ]
        }
      ]
    },
    {
      "cell_type": "markdown",
      "source": [
        "El porcentaje de prediccion para las pruebas es muy bajo, el algoritmo no es totalmente confiable, en mis pruebas sobrevive mucho mas gente que la que realmente sobrevivio"
      ],
      "metadata": {
        "id": "uaNa4oym3n-h"
      }
    },
    {
      "cell_type": "code",
      "source": [
        "dfTrain, dfTest = train_test_split(df, test_size=0.2, random_state=25)"
      ],
      "metadata": {
        "id": "599BI2Z414yW"
      },
      "execution_count": null,
      "outputs": []
    },
    {
      "cell_type": "code",
      "source": [
        "# Hacer regresión de age, siblings y parents vs sobrevivencia\n",
        "x = dfTrain.iloc[:,[4, 5, 6, 7]]\n",
        "y = dfTrain.Survived\n",
        "logit_model = sm.Logit(y,x)\n",
        "result = logit_model.fit()\n",
        "print(result.summary())"
      ],
      "metadata": {
        "colab": {
          "base_uri": "https://localhost:8080/"
        },
        "id": "gVXNqtQW7FJ5",
        "outputId": "149e51e2-8328-4076-e52d-49087720bdb8"
      },
      "execution_count": null,
      "outputs": [
        {
          "output_type": "stream",
          "name": "stdout",
          "text": [
            "Optimization terminated successfully.\n",
            "         Current function value: 0.538392\n",
            "         Iterations 6\n",
            "                           Logit Regression Results                           \n",
            "==============================================================================\n",
            "Dep. Variable:               Survived   No. Observations:                  569\n",
            "Model:                          Logit   Df Residuals:                      565\n",
            "Method:                           MLE   Df Model:                            3\n",
            "Date:                Sun, 06 Nov 2022   Pseudo R-squ.:                  0.1995\n",
            "Time:                        03:19:01   Log-Likelihood:                -306.35\n",
            "converged:                       True   LL-Null:                       -382.70\n",
            "Covariance Type:            nonrobust   LLR p-value:                 6.864e-33\n",
            "==============================================================================\n",
            "                 coef    std err          z      P>|z|      [0.025      0.975]\n",
            "------------------------------------------------------------------------------\n",
            "Sex            2.3661      0.224     10.582      0.000       1.928       2.804\n",
            "Age           -0.0320      0.004     -8.586      0.000      -0.039      -0.025\n",
            "SibSp         -0.4281      0.121     -3.525      0.000      -0.666      -0.190\n",
            "Parch         -0.0492      0.129     -0.381      0.703      -0.302       0.204\n",
            "==============================================================================\n"
          ]
        }
      ]
    },
    {
      "cell_type": "code",
      "source": [
        "sexCoef = result.params.values[0]\n",
        "ageCoef = result.params.values[1]\n",
        "siblingsCoef = result.params.values[2]\n",
        "parentsCoef = result.params.values[3]"
      ],
      "metadata": {
        "id": "HYEk0kvC7UYH"
      },
      "execution_count": null,
      "outputs": []
    },
    {
      "cell_type": "code",
      "source": [
        "dfTest['PredictedValue'] = np.nan\n",
        "dfTest.index = range(dfTest.shape[0])\n",
        "\n",
        "for i in range(dfTest.shape[0]):\n",
        "  pred = 1/(1+e**((sexCoef*dfTest.loc[i, 'Sex'] + ageCoef*dfTest.loc[i, 'Age']) + (siblingsCoef*dfTest.loc[i, 'SibSp']) + (parentsCoef*dfTest.loc[i, 'Parch'])))\n",
        "  value = 0\n",
        "  if pred > 0.5:\n",
        "    value = 1\n",
        "  elif pred is not None:\n",
        "    value = 0\n",
        "  \n",
        "  dfTest['PredictedValue'][i] = value\n"
      ],
      "metadata": {
        "colab": {
          "base_uri": "https://localhost:8080/"
        },
        "id": "R06d5-ko8uHE",
        "outputId": "2b6935b4-4b83-45ed-ae68-84704df99cd9"
      },
      "execution_count": null,
      "outputs": [
        {
          "output_type": "stream",
          "name": "stderr",
          "text": [
            "/usr/local/lib/python3.7/dist-packages/ipykernel_launcher.py:12: SettingWithCopyWarning: \n",
            "A value is trying to be set on a copy of a slice from a DataFrame\n",
            "\n",
            "See the caveats in the documentation: https://pandas.pydata.org/pandas-docs/stable/user_guide/indexing.html#returning-a-view-versus-a-copy\n",
            "  if sys.path[0] == '':\n"
          ]
        }
      ]
    },
    {
      "cell_type": "code",
      "source": [
        "dfTest['PredictedValue'].value_counts()"
      ],
      "metadata": {
        "colab": {
          "base_uri": "https://localhost:8080/"
        },
        "id": "SSjZeqn38zNg",
        "outputId": "07089bc0-84f6-4ef5-d183-a48df62a8487"
      },
      "execution_count": null,
      "outputs": [
        {
          "output_type": "execute_result",
          "data": {
            "text/plain": [
              "1.0    87\n",
              "0.0    56\n",
              "Name: PredictedValue, dtype: int64"
            ]
          },
          "metadata": {},
          "execution_count": 98
        }
      ]
    },
    {
      "cell_type": "code",
      "source": [
        "dfTest['Survived'].value_counts()"
      ],
      "metadata": {
        "colab": {
          "base_uri": "https://localhost:8080/"
        },
        "id": "XXSLogCp81FH",
        "outputId": "b3f50f0c-b14c-495a-89d3-8e1665ddf1bd"
      },
      "execution_count": null,
      "outputs": [
        {
          "output_type": "execute_result",
          "data": {
            "text/plain": [
              "0    82\n",
              "1    61\n",
              "Name: Survived, dtype: int64"
            ]
          },
          "metadata": {},
          "execution_count": 99
        }
      ]
    },
    {
      "cell_type": "code",
      "source": [
        "counter = 0\n",
        "for i in range(dfTest.shape[0]):\n",
        "  if dfTest.loc[i, 'Survived'] == dfTest.loc[i, 'PredictedValue']:\n",
        "    counter+=1\n",
        "\n",
        "percentage = (counter/dfTest.shape[0])*100"
      ],
      "metadata": {
        "id": "KfM6I_t7811E"
      },
      "execution_count": null,
      "outputs": []
    },
    {
      "cell_type": "code",
      "source": [
        "print(f'El porcentaje de prediccion es de: {percentage}')"
      ],
      "metadata": {
        "colab": {
          "base_uri": "https://localhost:8080/"
        },
        "id": "0FSptxl09C5n",
        "outputId": "af45b881-ac71-4ec6-9801-1847acc00c9a"
      },
      "execution_count": null,
      "outputs": [
        {
          "output_type": "stream",
          "name": "stdout",
          "text": [
            "El porcentaje de prediccion es de: 20.27972027972028\n"
          ]
        }
      ]
    },
    {
      "cell_type": "markdown",
      "source": [
        "El porcentaje de prediccion para las pruebas es muy bajo, el algoritmo no es totalmente confiable, en mis pruebas los valores son similares, pero no corresponden a la persona que es"
      ],
      "metadata": {
        "id": "9lpeStda9Iev"
      }
    },
    {
      "cell_type": "code",
      "source": [],
      "metadata": {
        "id": "yEjkfmGC9DM-"
      },
      "execution_count": null,
      "outputs": []
    }
  ]
}